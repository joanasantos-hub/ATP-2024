{
 "cells": [
  {
   "cell_type": "markdown",
   "metadata": {},
   "source": [
    "### TPC 2\n",
    "## Jogo \"Adivinha o número\""
   ]
  },
  {
   "cell_type": "code",
   "execution_count": null,
   "metadata": {},
   "outputs": [],
   "source": [
    "print('Olá! Vamos jogar um jogo')\n",
    "print('Eu penso num número e tu tentas adivinhar')\n",
    "\n",
    "from random import randint\n",
    "i = 0\n",
    "while i < 1:\n",
    "    número_secreto = (randint(1,100))\n",
    "    i = i + 1\n",
    "\n",
    "tentativa = int(input('Tentativa:'))\n",
    "contador = 1\n",
    "while tentativa != número_secreto:\n",
    "    if tentativa < número_secreto:\n",
    "        print('O número que pensei é maior')\n",
    "    else:\n",
    "        print('O número que pensei é menor')\n",
    "    contador = contador + 1\n",
    "    tentativa = int(input('Tentativa:'))\n",
    "else:\n",
    "    print('Acertou')\n",
    "    print(f'Utilizou {contador} tentativas')\n"
   ]
  }
 ],
 "metadata": {
  "kernelspec": {
   "display_name": "Python 3",
   "language": "python",
   "name": "python3"
  },
  "language_info": {
   "codemirror_mode": {
    "name": "ipython",
    "version": 3
   },
   "file_extension": ".py",
   "mimetype": "text/x-python",
   "name": "python",
   "nbconvert_exporter": "python",
   "pygments_lexer": "ipython3",
   "version": "3.12.5"
  }
 },
 "nbformat": 4,
 "nbformat_minor": 2
}
