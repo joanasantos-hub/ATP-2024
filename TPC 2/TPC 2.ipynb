{
 "cells": [
  {
   "cell_type": "markdown",
   "metadata": {},
   "source": [
    "### TPC 2\n",
    "## Jogo \"Adivinha o número\""
   ]
  },
  {
   "cell_type": "code",
   "execution_count": null,
   "metadata": {},
   "outputs": [],
   "source": [
    "print('Olá! Vamos jogar um jogo!')\n",
    "print('Um de nós pensa num número aleatório de 0 a 100 e o outra tenta adivinhar')\n",
    "\n",
    "modo = int(input('Escolha o modo de partida: 1) Computador pensa num número  2) Utilizador pensa num número'))\n",
    "\n",
    "if modo == 1:\n",
    "    from random import randint\n",
    "    i = 0\n",
    "    while i < 1:\n",
    "        número_secreto = (randint(0,100))\n",
    "        i = i + 1\n",
    "        tentativa = int(input('Tentativa:'))\n",
    "        contador = 1\n",
    "\n",
    "    while tentativa != número_secreto:\n",
    "        if tentativa < número_secreto:\n",
    "            print('O número que pensei é maior')\n",
    "        else:\n",
    "            print('O número que pensei é menor')\n",
    "        contador = contador + 1\n",
    "        tentativa = int(input('Tentativa:'))\n",
    "    else:\n",
    "        print('Acertaste! \\nObrigada por jogares :)')\n",
    "        print(f'Utilizaste {contador} tentativas')\n",
    "elif modo == 2:\n",
    "    min = 0\n",
    "    max = 100\n",
    "\n",
    "    contador = 1\n",
    "    encontrado = False\n",
    "\n",
    "    print(f'Escolhe o teu número secreto!')\n",
    "    \n",
    "    while min <= max and not encontrado:\n",
    "        tentativa_cp = (min + max) // 2\n",
    "        print(f'Tentativa do computador: {tentativa_cp}')\n",
    "        feedback = int(input('1) O número que pensei é maior  2) O número que pensei é menor  3) Acertaste! : '))\n",
    "        contador = contador + 1\n",
    "        if feedback == 1:\n",
    "            min = tentativa_cp + 1\n",
    "        elif feedback == 2:\n",
    "            max = tentativa_cp - 1\n",
    "        elif feedback == 3:\n",
    "            encontrado = True\n",
    "            print(f'Tentativas do computador: {contador} \\nObrigada por jogares :)')\n",
    "        else:\n",
    "            print('Opção inválida :( Por favor, insira 1, 2 ou 3.')\n",
    "        "
   ]
  }
 ],
 "metadata": {
  "kernelspec": {
   "display_name": "Python 3",
   "language": "python",
   "name": "python3"
  },
  "language_info": {
   "codemirror_mode": {
    "name": "ipython",
    "version": 3
   },
   "file_extension": ".py",
   "mimetype": "text/x-python",
   "name": "python",
   "nbconvert_exporter": "python",
   "pygments_lexer": "ipython3",
   "version": "3.13.0"
  }
 },
 "nbformat": 4,
 "nbformat_minor": 2
}
