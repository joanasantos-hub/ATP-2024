{
 "cells": [
  {
   "cell_type": "markdown",
   "metadata": {},
   "source": [
    "### Teste das Funções do TPC 6 "
   ]
  },
  {
   "cell_type": "code",
   "execution_count": 48,
   "metadata": {},
   "outputs": [],
   "source": [
    "# Variável onde armazenamos dados da turma\n",
    "turma = []"
   ]
  },
  {
   "cell_type": "code",
   "execution_count": 49,
   "metadata": {},
   "outputs": [
    {
     "data": {
      "text/plain": [
       "[('Joana', 6, [17, 15, 18])]"
      ]
     },
     "execution_count": 49,
     "metadata": {},
     "output_type": "execute_result"
    }
   ],
   "source": [
    "# Opção 1 do menu\n",
    "def Criar_turma(turma):\n",
    "\n",
    "    nome = input('Introduza o nome do aluno: ')\n",
    "    id = int(input('Introduza o id do aluno: '))\n",
    "    nota_tpc = int(input('Introduza a nota dos tpcs do aluno: '))\n",
    "    nota_projeto = int(input('Introduza a nota do projeto do aluno: '))\n",
    "    nota_teste = int(input('Introduza a nota do teste do aluno: '))\n",
    "\n",
    "    aluno = (nome, id, [nota_tpc, nota_projeto, nota_teste])\n",
    "\n",
    "    turma.append(aluno)\n",
    "\n",
    "    return turma\n",
    "\n",
    "Criar_turma(turma)"
   ]
  },
  {
   "cell_type": "code",
   "execution_count": 65,
   "metadata": {},
   "outputs": [
    {
     "name": "stdout",
     "output_type": "stream",
     "text": [
      "Registo adicionado com sucesso: ('carolina', 28, [17, 19, 20])\n",
      "[('Joana', 6, [17, 15, 18]), ('leonor', 3, [15, 14, 16]), ('clara', 9, [13, 12, 11]), ('ana', 12, [15, 16, 17]), ('carolina', 28, [17, 19, 20])]\n"
     ]
    }
   ],
   "source": [
    "# Opção 2 do menu\n",
    "def Inserir_aluno(turma, aluno):\n",
    "\n",
    "    nome = input('Introduza o nome do aluno: ')\n",
    "    id = int(input('Introduza o id do aluno: '))\n",
    "    nota_tpc = int(input('Introduza a nota dos tpcs do aluno: '))\n",
    "    nota_projeto = int(input('Introduza a nota do projeto do aluno: '))\n",
    "    nota_teste = int(input('Introduza a nota do teste do aluno: '))\n",
    "\n",
    "    aluno = (nome, id, [nota_tpc, nota_projeto, nota_teste])\n",
    "\n",
    "    for a in turma:\n",
    "        if a[1] == aluno[1]:\n",
    "            print(f'O registo para o aluno com id {aluno[1]} já existe')\n",
    "            return \n",
    "    turma.append(aluno)\n",
    "    print(f'Registo adicionado com sucesso: {aluno}')\n",
    "\n",
    "Inserir_aluno(turma, aluno)\n",
    "\n",
    "print(turma)"
   ]
  },
  {
   "cell_type": "code",
   "execution_count": 51,
   "metadata": {},
   "outputs": [
    {
     "name": "stdout",
     "output_type": "stream",
     "text": [
      "Registo adicionado com sucesso: ('clara', 9, [13, 12, 11])\n",
      "Registo adicionado com sucesso: ('ana', 12, [15, 16, 17])\n",
      "[('Joana', 6, [17, 15, 18]), ('leonor', 3, [15, 14, 16]), ('clara', 9, [13, 12, 11]), ('ana', 12, [15, 16, 17])]\n"
     ]
    }
   ],
   "source": [
    "Inserir_aluno(turma, ('clara', 9, [13,12,11]))\n",
    "Inserir_aluno(turma, ('ana', 12, [15,16,17]))\n",
    "\n",
    "print(turma)"
   ]
  },
  {
   "cell_type": "code",
   "execution_count": 66,
   "metadata": {},
   "outputs": [
    {
     "name": "stdout",
     "output_type": "stream",
     "text": [
      "-----------------\n",
      "Alunos\n",
      "-----------------\n",
      "Nome: Joana, ID: 6, Notas: [17, 15, 18]\n",
      "Nome: leonor, ID: 3, Notas: [15, 14, 16]\n",
      "Nome: clara, ID: 9, Notas: [13, 12, 11]\n",
      "Nome: ana, ID: 12, Notas: [15, 16, 17]\n",
      "Nome: carolina, ID: 28, Notas: [17, 19, 20]\n"
     ]
    }
   ],
   "source": [
    "# Opção 3 do menu\n",
    "def Listar(turma):\n",
    "\n",
    "    print('-----------------')\n",
    "    print('Alunos')\n",
    "    print('-----------------')\n",
    "    for alunos in turma:\n",
    "        nome, id, notas = alunos  # Desempacotar o tuplo\n",
    "        print(f'Nome: {nome}, ID: {id}, Notas: {notas}')\n",
    "    return\n",
    "\n",
    "Listar(turma)"
   ]
  },
  {
   "cell_type": "code",
   "execution_count": 73,
   "metadata": {},
   "outputs": [
    {
     "name": "stdout",
     "output_type": "stream",
     "text": [
      "Aluno com id 13 não encontrado na turma\n"
     ]
    }
   ],
   "source": [
    "# Opção 4 do menu\n",
    "def Consulta(turma, id):\n",
    "    \n",
    "    i = 0\n",
    "    id = int(input('Introduza o id do aluno: '))\n",
    "    for i, aluno in enumerate(turma): # i corresponde ao índice de cada aluno dentro da turma\n",
    "        if aluno[1] == id:\n",
    "            print(f'Nome: {aluno[0]}, ID: {id}, Notas: {aluno[2]}')\n",
    "            return\n",
    "    print(f'Aluno com id {id} não encontrado na turma')\n",
    "\n",
    "Consulta(turma, id)"
   ]
  },
  {
   "cell_type": "code",
   "execution_count": 81,
   "metadata": {},
   "outputs": [
    {
     "name": "stdout",
     "output_type": "stream",
     "text": [
      "Turma guardada em turma.txt\n"
     ]
    }
   ],
   "source": [
    "# Opção 5 do menu\n",
    "def Guardar_turma(turma, fnome):\n",
    "    \n",
    "    with open(fnome, \"w\") as file:\n",
    "        for nome, id, notas in turma:\n",
    "            # Formata o aluno como \"nome,id::nota1,nota2,nota3\"\n",
    "            notas_str = \",\".join(map(str, notas))\n",
    "            linha = f\"{nome},{id}::{notas_str}\\n\"\n",
    "            file.write(linha)\n",
    "    print(f'Turma guardada em {fnome}')\n",
    "\n",
    "Guardar_turma(turma, 'turma.txt')"
   ]
  },
  {
   "cell_type": "code",
   "execution_count": 82,
   "metadata": {},
   "outputs": [
    {
     "data": {
      "text/plain": [
       "[('Joana', 6, [17, 15, 18]),\n",
       " ('leonor', 3, [15, 14, 16]),\n",
       " ('clara', 9, [13, 12, 11]),\n",
       " ('ana', 12, [15, 16, 17]),\n",
       " ('carolina', 28, [17, 19, 20])]"
      ]
     },
     "execution_count": 82,
     "metadata": {},
     "output_type": "execute_result"
    }
   ],
   "source": [
    "# Opção 6 do menu\n",
    "def Carregar_turma(fnome):\n",
    "\n",
    "    turma = []\n",
    "    file = open(fnome,\"r\")\n",
    "    for linha in file:\n",
    "        if linha != '': # Identifica linhas com texto\n",
    "            dados = linha.split('::') # Dividimos as linhas do ficheiro nos dados do tuplo\n",
    "            nome_id = dados[0].split(\",\")\n",
    "            nome = nome_id[0]\n",
    "            id = int(nome_id[1])\n",
    "            notas = list(map(int, dados[1].split(\",\")))\n",
    "            aluno = (nome, id, notas)\n",
    "            turma.append(aluno)\n",
    "    return turma\n",
    "\n",
    "Carregar_turma('turma.txt')"
   ]
  }
 ],
 "metadata": {
  "kernelspec": {
   "display_name": "Python 3",
   "language": "python",
   "name": "python3"
  },
  "language_info": {
   "codemirror_mode": {
    "name": "ipython",
    "version": 3
   },
   "file_extension": ".py",
   "mimetype": "text/x-python",
   "name": "python",
   "nbconvert_exporter": "python",
   "pygments_lexer": "ipython3",
   "version": "3.13.0"
  }
 },
 "nbformat": 4,
 "nbformat_minor": 2
}
