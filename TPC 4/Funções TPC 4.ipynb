{
 "cells": [
  {
   "cell_type": "markdown",
   "metadata": {},
   "source": [
    "## Teste das funções a utilizar no TPC 4"
   ]
  },
  {
   "cell_type": "code",
   "execution_count": 91,
   "metadata": {},
   "outputs": [
    {
     "name": "stdout",
     "output_type": "stream",
     "text": [
      "[66, 1, 91, 7]\n"
     ]
    }
   ],
   "source": [
    "def Cria_lista():\n",
    "\n",
    "    from random import randint\n",
    "\n",
    "    n = int(input('Escolha um número de elementos para a lista que deseja criar:'))\n",
    "    res = []\n",
    "    i = 1\n",
    "    while i <= n:\n",
    "        res.append(randint(1,100))\n",
    "        i = i + 1\n",
    "    return res\n",
    "\n",
    "print(Cria_lista())"
   ]
  },
  {
   "cell_type": "code",
   "execution_count": 92,
   "metadata": {},
   "outputs": [
    {
     "name": "stdout",
     "output_type": "stream",
     "text": [
      "[3, 6]\n"
     ]
    }
   ],
   "source": [
    "def Le_lista():\n",
    "\n",
    "    n = int(input('Introduza o número de elementos desejados para a lista:'))\n",
    "    res = []\n",
    "    i = 1\n",
    "    while i <= n:\n",
    "        res.append(int(input('Introduza o elemento desejado:')))\n",
    "        i = i + 1\n",
    "    return res\n",
    "\n",
    "print(Le_lista())"
   ]
  },
  {
   "cell_type": "code",
   "execution_count": 69,
   "metadata": {},
   "outputs": [
    {
     "name": "stdout",
     "output_type": "stream",
     "text": [
      "6\n"
     ]
    }
   ],
   "source": [
    "def Soma(lista):\n",
    "\n",
    "    soma = 0\n",
    "    for x in lista:\n",
    "        soma = soma + x\n",
    "    return soma\n",
    "\n",
    "print(Soma([1,2,3]))"
   ]
  },
  {
   "cell_type": "code",
   "execution_count": 70,
   "metadata": {},
   "outputs": [
    {
     "name": "stdout",
     "output_type": "stream",
     "text": [
      "2.0\n"
     ]
    }
   ],
   "source": [
    "def Média(lista):\n",
    "\n",
    "    res = 0\n",
    "    for x in lista:\n",
    "        res = res + x\n",
    "    return res/ len(lista)\n",
    "\n",
    "print(Média([1,2,3]))"
   ]
  },
  {
   "cell_type": "code",
   "execution_count": 71,
   "metadata": {},
   "outputs": [
    {
     "name": "stdout",
     "output_type": "stream",
     "text": [
      "7\n"
     ]
    }
   ],
   "source": [
    "def Maior(lista):\n",
    "\n",
    "    res = lista[0]\n",
    "    for x in lista:\n",
    "        if x > res:\n",
    "            res = x\n",
    "    return res\n",
    "\n",
    "print(Maior([2,7,4]))"
   ]
  },
  {
   "cell_type": "code",
   "execution_count": 72,
   "metadata": {},
   "outputs": [
    {
     "name": "stdout",
     "output_type": "stream",
     "text": [
      "2\n"
     ]
    }
   ],
   "source": [
    "def Menor(lista):\n",
    "\n",
    "    res = lista[0]\n",
    "    for x in lista:\n",
    "            if x < res:\n",
    "                res = x\n",
    "    return res\n",
    "\n",
    "print(Menor([2,7,4]))"
   ]
  },
  {
   "cell_type": "code",
   "execution_count": 73,
   "metadata": {},
   "outputs": [
    {
     "name": "stdout",
     "output_type": "stream",
     "text": [
      "Sim\n"
     ]
    }
   ],
   "source": [
    "def Ordem_crescente(lista):\n",
    "\n",
    "    crescente = True\n",
    "    i = 0\n",
    "    res = ''\n",
    "    while crescente and i < len(lista) - 1:\n",
    "        if lista[i] > lista[i + 1]:\n",
    "            crescente = False\n",
    "            res = 'Não'\n",
    "        else:\n",
    "            i = i + 1 # percorremos a lista quando não encontramos indicações que a lista está em ordem decrescente\n",
    "            res = 'Sim'\n",
    "    return res\n",
    "\n",
    "print(Ordem_crescente([6,9,10]))"
   ]
  },
  {
   "cell_type": "code",
   "execution_count": 74,
   "metadata": {},
   "outputs": [
    {
     "name": "stdout",
     "output_type": "stream",
     "text": [
      "Sim\n"
     ]
    }
   ],
   "source": [
    "def Ordem_decrescente(lista):\n",
    "\n",
    "    \n",
    "    decrescente = True\n",
    "    i = 0\n",
    "    res = ''\n",
    "    while decrescente and i < len(lista) - 1:\n",
    "        if lista[i] < lista[i + 1]:\n",
    "            decrescente = False\n",
    "            res = 'Não'\n",
    "        else:\n",
    "            i = i + 1\n",
    "            res = 'Sim'\n",
    "    return res\n",
    "\n",
    "print(Ordem_decrescente([4,3,2]))"
   ]
  },
  {
   "cell_type": "code",
   "execution_count": 90,
   "metadata": {},
   "outputs": [
    {
     "name": "stdout",
     "output_type": "stream",
     "text": [
      "2\n"
     ]
    }
   ],
   "source": [
    "def Procura(lista):\n",
    "\n",
    "    limite_inicial = 0\n",
    "    limite_final = len(lista) - 1\n",
    "    x = int(input('Introduza o elemento da lista que deseja procurar'))\n",
    "    encontrado = False\n",
    "\n",
    "    while limite_inicial <= limite_final and not encontrado:\n",
    "        meio = (limite_inicial + limite_final) // 2\n",
    "        if lista[meio] == x:\n",
    "            encontrado = True\n",
    "            return meio\n",
    "        elif lista[meio] < x:\n",
    "            limite_inicial = meio + 1\n",
    "        else:\n",
    "            limite_final = meio - 1\n",
    "\n",
    "    return meio if encontrado else -1\n",
    "\n",
    "print(Procura([1,2,3,4,5]))"
   ]
  }
 ],
 "metadata": {
  "kernelspec": {
   "display_name": "Python 3",
   "language": "python",
   "name": "python3"
  },
  "language_info": {
   "codemirror_mode": {
    "name": "ipython",
    "version": 3
   },
   "file_extension": ".py",
   "mimetype": "text/x-python",
   "name": "python",
   "nbconvert_exporter": "python",
   "pygments_lexer": "ipython3",
   "version": "3.13.0"
  }
 },
 "nbformat": 4,
 "nbformat_minor": 2
}
